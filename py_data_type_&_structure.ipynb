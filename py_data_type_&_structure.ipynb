{
  "nbformat": 4,
  "nbformat_minor": 0,
  "metadata": {
    "colab": {
      "provenance": []
    },
    "kernelspec": {
      "name": "python3",
      "display_name": "Python 3"
    },
    "language_info": {
      "name": "python"
    }
  },
  "cells": [
    {
      "cell_type": "markdown",
      "source": [
        "#**Data Types and Structures Assignment(Theory Questions & Answers)**\n",
        "\n",
        "\n",
        "1.**What are data structures, and why are they important?**\n",
        "\n",
        " Ans: Data structures are specialized formats for organizing, processing, storing, and retrieving data, enabling efficient management and manipulation of information.\n",
        "\n",
        "2.**Explain the difference between mutable and immutable data types with examples.**\n",
        "\n",
        "Ans:  Mutable data types allow modification after creation, while immutable data types do not, meaning any change results in a new object being created.\n",
        "\n",
        "Mutable example:\n",
        "\n",
        "        my_list = [1, 2, 3]\n",
        "        my_list.append(4)  # Modifies the list\n",
        "        print(my_list)  # Output: [1, 2, 3, 4]\n",
        "Immutable example:\n",
        "\n",
        "        my_string = \"Hello\"\n",
        "        # my_string[0] = \"W\"  # This will raise an error\n",
        "        new_string = my_string + \" World\"  # Creates a new string\n",
        "        print(new_string)  # Output: Hello World\n",
        "\n",
        "3.**What are the main differences between lists and tuples in Python?**\n",
        "\n",
        "Ans: The main difference between lists and tuples in Python lies in their mutability: lists are mutable (changeable), while tuples are immutable (unchangeable).\n",
        "\n",
        "4.**Describe how dictionaries store data.**\n",
        "\n",
        "Ans: Dictionaries are used to store data values in key:value pairs. A dictionary is a collection which is ordered*, changeable and do not allow duplicates.They are implemented using a hush table , which provides average constant time complexity.\n",
        "\n",
        "5.**Why might you use a set instead of a list in Python?**\n",
        "\n",
        "Ans: Because sets cannot have multiple occurrences of the same element, it makes sets highly useful to efficiently remove duplicate values from a list or tuple and to perform common math operations like unions and intersections.\n",
        "\n",
        "6.**What is a string in Python, and how is it different from a list?**\n",
        "\n",
        "Ans: In Python, a string is an immutable sequence of characters enclosed in single or double quotes, while a list is a mutable, ordered collection of items (which can be of any data type) enclosed in square brackets.\n",
        "\n",
        "7.**How do tuples ensure data integrity in Python?**\n",
        "\n",
        "Ans: Tuples are immutable to ensure that their contents remain constant throughout their lifecycle, guaranteeing data integrity and reliability. This immutability allows tuples to be used as keys in dictionaries and elements in sets, as they can be hashed.\n",
        "\n",
        "\n",
        "8.**What is a hash table, and how does it relate to dictionaries in Python?**\n",
        "\n",
        "Ans: A hash table is a data structure that stores key-value pairs, using a hash function to map keys to specific locations (buckets) for fast retrieval, and Python dictionaries are implemented using hash tables.\n",
        "\n",
        "9.**Can lists contain different data types in Python?**\n",
        "\n",
        "Ans: Although it's not really common, a list can also contain a mix of Python types including strings, floats, and booleans.\n",
        "\n",
        "10.**Explain why strings are immutable in Python.**\n",
        "\n",
        "Ans: Stiring are immutable in python for several important reasons related to performance, security, and simplicity of the language.\n",
        "\n",
        "11.**What advantages do dictionaries offer over lists for certain tasks.**\n",
        "\n",
        "Ans: Dictionaries excel over lists for tasks involving quick data retrieval and mapping relationships, due to their ability to access values by keys rather than indices, offering faster lookup times.\n",
        "\n",
        "12.**Describe a scenario where using a tuple would be preferable over a list.**\n",
        "\n",
        "Ans: Tuples are immutable. Hence, they are primarily used to store data that doesn't change frequently. Any operation can store data in a tuple when you don't want it to change. Tuples are great to use if you want the data in your collection to be read-only, never to change, and always remain the same and constant.\n",
        "\n",
        "13.**How do sets handle duplicate values in Python.**\n",
        "\n",
        "Ans: Here are some of the features of sets in Python: Duplicate items are not allowed. If items appear multiple times, only one will be recognized in the set. The items in a set are unordered.\n",
        "\n",
        "14.**How does the “in” keyword work differently for lists and dictionaries?**\n",
        "\n",
        "Ans: As mentioned above, the in operation for the dictionary tests on keys. The key of the dictionary is a unique value as well as the set, and the execution time is about the same as for sets. On the other hand, dictionary values can be duplicated like a list.\n",
        "\n",
        "15.**Can you modify the elements of a tuple? Explain why or why not.**\n",
        "\n",
        "Ans: No, you cannot directly modify the elements of a tuple in Python because tuples are immutable, meaning their contents cannot be changed after creation, unlike lists which are mutable.\n",
        "\n",
        "16.**What is a nested dictionary, and give an example of its use case?**\n",
        "\n",
        "Ans: A nested dictionary in Python is a dictionary where the values are themselves dictionaries, allowing for a hierarchical data structure. A common use case is representing structured data, like an organizational chart or JSON data, where you can store data in multiple levels.\n",
        "\n",
        "Example:\n",
        "       # Nested dictionary representing employee records\n",
        "       employee_data = {\"department1\": {\"employee1\": {\"name\": \"Alice\", \"id\": 101, \"role\": \"Manager\"},\n",
        "        \"employee2\": {\"name\": \"Bob\", \"id\": 102, \"role\": \"Analyst\"}},\n",
        "    \"department2\": {\"employee3\": {\"name\": \"Charlie\", \"id\": 201, \"role\": \"Developer\"},\"employee4\": {\"name\": \"David\", \"id\": 202, \"role\": \"Tester\"}}}\n",
        "\n",
        "     # Accessing data within the nested dictionary\n",
        "     print(employee_data[\"department1\"][\"employee1\"][\"name\"]) # Output: Alice\n",
        "     print(employee_data[\"department2\"][\"employee3\"][\"role\"]) # Output: Developer\n",
        "\n",
        "17.**Describe the time complexity of accessing elements in a dictionary.**\n",
        "\n",
        "Ans: Accessing elements in a dictionary (or hash map) typically has an average time complexity of O(1), meaning it takes constant time regardless of the dictionary's size. However, in the worst-case scenario (e.g., many collisions), it can degrade to O(n).\n",
        "\n",
        "18.**In what situations are lists preferred over dictionaries?**\n",
        "\n",
        "Ans: For quick data look-ups, configurations, or caches, favor dictionaries. For ordered collections and sequence operations, such as maintaining a stack or queue, lists are more suitable.\n",
        "\n",
        "19.**Why are dictionaries considered unordered, and how does that affect data retrieval?**\n",
        "\n",
        "Ans: Dictionaries are considered unordered because they store data as key-value pairs, and the order in which these pairs are inserted doesn't affect how they are stored or retrieved; accessing data relies on keys, not position.\n",
        "\n",
        "20.**Explain the difference between a list and a dictionary in terms of data retrieval.**\n",
        "\n",
        "Ans: In terms of data retrieval, lists use numerical indices (starting from 0) for accessing elements, while dictionaries use keys to access associated values, offering significantly faster lookups than lists.  \n",
        "\n"
      ],
      "metadata": {
        "id": "dj_hGLvANQaW"
      }
    },
    {
      "cell_type": "markdown",
      "source": [
        "#**Data Types and Structures Assignment(Practical Questions & Answers)**\n"
      ],
      "metadata": {
        "id": "rpn25-UtS0jh"
      }
    },
    {
      "cell_type": "markdown",
      "source": [
        "1.**Write a code to create a string with your name and print it.**"
      ],
      "metadata": {
        "id": "HE1bYy94J1hU"
      }
    },
    {
      "cell_type": "code",
      "source": [
        "name=\"Nilkanta chakraborty\"\n",
        "print(\"My name is \" + name)"
      ],
      "metadata": {
        "colab": {
          "base_uri": "https://localhost:8080/"
        },
        "id": "YmRC1ICNKCfB",
        "outputId": "89025c0b-686b-4168-a296-df902a57c681"
      },
      "execution_count": null,
      "outputs": [
        {
          "output_type": "stream",
          "name": "stdout",
          "text": [
            "My name is Nilkanta chakraborty\n"
          ]
        }
      ]
    },
    {
      "cell_type": "markdown",
      "source": [
        "2.**Write a code to find the length of the string \"Hello World\".**"
      ],
      "metadata": {
        "id": "DFV-NqQsLCnQ"
      }
    },
    {
      "cell_type": "code",
      "source": [
        "string = \"Hello World\"\n",
        "length = len(string)\n",
        "print(length)"
      ],
      "metadata": {
        "colab": {
          "base_uri": "https://localhost:8080/"
        },
        "id": "UVxPtWgPLKD0",
        "outputId": "3b7719bf-a4d3-4012-ff0e-b176751613e3"
      },
      "execution_count": null,
      "outputs": [
        {
          "output_type": "stream",
          "name": "stdout",
          "text": [
            "11\n"
          ]
        }
      ]
    },
    {
      "cell_type": "markdown",
      "source": [
        "3.**Write a code to slice the first 3 characters from the string \"Python Programming\".**"
      ],
      "metadata": {
        "id": "Mbkn_iCJLU2l"
      }
    },
    {
      "cell_type": "code",
      "source": [
        "string = \"Python Programming\"\n",
        "sliced_string = string[:3]\n",
        "print(sliced_string)"
      ],
      "metadata": {
        "colab": {
          "base_uri": "https://localhost:8080/"
        },
        "id": "8fP2xKg9LgUh",
        "outputId": "906b7081-fe1b-4358-9d7b-8c214502b180"
      },
      "execution_count": null,
      "outputs": [
        {
          "output_type": "stream",
          "name": "stdout",
          "text": [
            "Pyt\n"
          ]
        }
      ]
    },
    {
      "cell_type": "markdown",
      "source": [
        "4.**Write a code to convert the string \"hello\" to uppercase.**"
      ],
      "metadata": {
        "id": "jCfOK_98Lzoo"
      }
    },
    {
      "cell_type": "code",
      "source": [
        "text = \"hello\"\n",
        "uppercase_text = text.upper()\n",
        "print(uppercase_text)"
      ],
      "metadata": {
        "colab": {
          "base_uri": "https://localhost:8080/"
        },
        "id": "OF0ue6w8L4Pw",
        "outputId": "6b21c5cc-c38c-41a5-8cd0-412e8d3ecdca"
      },
      "execution_count": null,
      "outputs": [
        {
          "output_type": "stream",
          "name": "stdout",
          "text": [
            "HELLO\n"
          ]
        }
      ]
    },
    {
      "cell_type": "markdown",
      "source": [
        "5.**Write a code to replace the word \"apple\" with \"orange\" in the string \"I like apple\".**"
      ],
      "metadata": {
        "id": "C5-kBjafM3XH"
      }
    },
    {
      "cell_type": "code",
      "source": [
        "text = \"i like apple\"\n",
        "new_text = text.replace(\"apple\",\"orange\")\n",
        "print(new_text)"
      ],
      "metadata": {
        "colab": {
          "base_uri": "https://localhost:8080/"
        },
        "id": "dD9jDcUgM_gE",
        "outputId": "50564cbe-baf2-4c3b-93c6-39fde5de1266"
      },
      "execution_count": null,
      "outputs": [
        {
          "output_type": "stream",
          "name": "stdout",
          "text": [
            "i like orange\n"
          ]
        }
      ]
    },
    {
      "cell_type": "markdown",
      "source": [
        "6.**Write a code to create a list with numbers 1 to 5 and print it.**"
      ],
      "metadata": {
        "id": "-O8WSTlLOYz4"
      }
    },
    {
      "cell_type": "code",
      "source": [
        "num = [1,2,3,4,5]\n",
        "print(num)"
      ],
      "metadata": {
        "colab": {
          "base_uri": "https://localhost:8080/"
        },
        "id": "vsNT9NZ2OfBK",
        "outputId": "4c2ac264-b5fb-41ac-f2ae-7c80a7b65668"
      },
      "execution_count": null,
      "outputs": [
        {
          "output_type": "stream",
          "name": "stdout",
          "text": [
            "[1, 2, 3, 4, 5]\n"
          ]
        }
      ]
    },
    {
      "cell_type": "markdown",
      "source": [
        "7.**Write a code to append the number 10 to the list [1, 2, 3, 4].**"
      ],
      "metadata": {
        "id": "kJfXd3pPPaCH"
      }
    },
    {
      "cell_type": "code",
      "source": [
        "my_list = [1, 2, 3, 4]\n",
        "my_list.append(10)\n",
        "print(my_list)"
      ],
      "metadata": {
        "colab": {
          "base_uri": "https://localhost:8080/"
        },
        "id": "cM11zxZnPlOy",
        "outputId": "a9e69c38-82ef-489a-eab2-dee7fb582d67"
      },
      "execution_count": null,
      "outputs": [
        {
          "output_type": "stream",
          "name": "stdout",
          "text": [
            "[1, 2, 3, 4, 10]\n"
          ]
        }
      ]
    },
    {
      "cell_type": "markdown",
      "source": [
        "8.**Write a code to remove the number 3 from the list [1, 2, 3, 4, 5].**"
      ],
      "metadata": {
        "id": "zjtyjNt9PyyA"
      }
    },
    {
      "cell_type": "code",
      "source": [
        "my_list = [1, 2, 3, 4, 5]\n",
        "my_list.remove(3)\n",
        "print(my_list)"
      ],
      "metadata": {
        "colab": {
          "base_uri": "https://localhost:8080/"
        },
        "id": "b8CyXynyP43K",
        "outputId": "1a972732-3ba2-42d1-9c3e-054f7bfe3c6d"
      },
      "execution_count": null,
      "outputs": [
        {
          "output_type": "stream",
          "name": "stdout",
          "text": [
            "[1, 2, 4, 5]\n"
          ]
        }
      ]
    },
    {
      "cell_type": "markdown",
      "source": [
        "9.**Write a code to access the second element in the list ['a', 'b', 'c', 'd']**"
      ],
      "metadata": {
        "id": "gU9WMQ02QDb1"
      }
    },
    {
      "cell_type": "code",
      "source": [
        "num = ['a','b','c','d']\n",
        "second_element = num[1]\n",
        "print(second_element)"
      ],
      "metadata": {
        "colab": {
          "base_uri": "https://localhost:8080/"
        },
        "id": "6qbgceWMQHGp",
        "outputId": "2fa6e1d4-75db-4c36-a0d9-6bccf15c95b9"
      },
      "execution_count": null,
      "outputs": [
        {
          "output_type": "stream",
          "name": "stdout",
          "text": [
            "b\n"
          ]
        }
      ]
    },
    {
      "cell_type": "markdown",
      "source": [
        "10.**Write a code to reverse the list [10, 20, 30, 40, 50].**"
      ],
      "metadata": {
        "id": "rDfkIlYIRB9X"
      }
    },
    {
      "cell_type": "code",
      "source": [
        "a = [10,20,30,40,50]\n",
        "print(a[::-1])"
      ],
      "metadata": {
        "colab": {
          "base_uri": "https://localhost:8080/"
        },
        "id": "3XkYDdPVRHCS",
        "outputId": "085eb498-f68a-4e89-ba16-fac2c145c1fb"
      },
      "execution_count": null,
      "outputs": [
        {
          "output_type": "stream",
          "name": "stdout",
          "text": [
            "[50, 40, 30, 20, 10]\n"
          ]
        }
      ]
    },
    {
      "cell_type": "markdown",
      "source": [
        "11.**Write a code to create a tuple with the elements 100, 200, 300 and print it.**"
      ],
      "metadata": {
        "id": "zk7siyw5RYbq"
      }
    },
    {
      "cell_type": "code",
      "source": [
        "my_tuple = (100, 200, 300)\n",
        "print(my_tuple)"
      ],
      "metadata": {
        "colab": {
          "base_uri": "https://localhost:8080/"
        },
        "id": "MIf_FhC9Re_y",
        "outputId": "ac5a1fe1-9ff7-48d6-fa72-792b96f3d5ba"
      },
      "execution_count": null,
      "outputs": [
        {
          "output_type": "stream",
          "name": "stdout",
          "text": [
            "(100, 200, 300)\n"
          ]
        }
      ]
    },
    {
      "cell_type": "markdown",
      "source": [
        "12.**Write a code to access the second-to-last element of the tuple ('red', 'green', 'blue', 'yellow').**"
      ],
      "metadata": {
        "id": "6MHUCYJtRzwL"
      }
    },
    {
      "cell_type": "code",
      "source": [
        "colors = ('Red', 'Green', 'Blue', 'Yellow')\n",
        "second_last = colors[-2]\n",
        "print(second_last)"
      ],
      "metadata": {
        "colab": {
          "base_uri": "https://localhost:8080/"
        },
        "id": "egpTLni4R4Jp",
        "outputId": "46a145f7-0efc-44be-f1e9-2bd74f2568e5"
      },
      "execution_count": null,
      "outputs": [
        {
          "output_type": "stream",
          "name": "stdout",
          "text": [
            "Blue\n"
          ]
        }
      ]
    },
    {
      "cell_type": "markdown",
      "source": [
        "13.**Write a code to find the minimum number in the tuple (10, 20, 5, 15).**"
      ],
      "metadata": {
        "id": "h9-JFCLNTKou"
      }
    },
    {
      "cell_type": "code",
      "source": [
        "my_tuple = (10, 20, 5, 15)\n",
        "smallest_number = min(my_tuple)\n",
        "print(smallest_number)"
      ],
      "metadata": {
        "colab": {
          "base_uri": "https://localhost:8080/"
        },
        "id": "xXRnv3qMTP8K",
        "outputId": "48446bca-9b5f-4a70-8e7a-1a7e5b237312"
      },
      "execution_count": null,
      "outputs": [
        {
          "output_type": "stream",
          "name": "stdout",
          "text": [
            "5\n"
          ]
        }
      ]
    },
    {
      "cell_type": "markdown",
      "source": [
        "14.**Write a code to find the index of the element \"cat\" in the tuple ('dog', 'cat', 'rabbit').**"
      ],
      "metadata": {
        "id": "c_JRAN7qThbE"
      }
    },
    {
      "cell_type": "code",
      "source": [
        "my_tuple = ('dog', 'cat', 'rabbit')\n",
        "index_of_cat = my_tuple.index('cat')\n",
        "print(index_of_cat)"
      ],
      "metadata": {
        "colab": {
          "base_uri": "https://localhost:8080/"
        },
        "id": "V0m4YFykTmEV",
        "outputId": "7c13317a-acf2-412b-b579-9bc99832645b"
      },
      "execution_count": null,
      "outputs": [
        {
          "output_type": "stream",
          "name": "stdout",
          "text": [
            "1\n"
          ]
        }
      ]
    },
    {
      "cell_type": "markdown",
      "source": [
        "15.**Write a code to create a tuple containing three different fruits and check if \"kiwi\" is in it.**"
      ],
      "metadata": {
        "id": "ym-D05DKTuLh"
      }
    },
    {
      "cell_type": "code",
      "source": [
        "fruits = ('apple', 'banana', 'kiwi')\n",
        "\n",
        "if 'kiwi' in fruits:\n",
        "    print(\"Yes, kiwi is in the tuple.\")\n",
        "else:\n",
        "    print(\"No, kiwi is not in the tuple.\")"
      ],
      "metadata": {
        "colab": {
          "base_uri": "https://localhost:8080/"
        },
        "id": "t_1cgwPrTyzi",
        "outputId": "1b2bb140-7ced-434c-a405-deedc11ac986"
      },
      "execution_count": null,
      "outputs": [
        {
          "output_type": "stream",
          "name": "stdout",
          "text": [
            "Yes, kiwi is in the tuple.\n"
          ]
        }
      ]
    },
    {
      "cell_type": "markdown",
      "source": [
        "16.**Write a code to create a set with the elements 'a', 'b', 'c' and print it.**"
      ],
      "metadata": {
        "id": "PSD6o5dxUo6e"
      }
    },
    {
      "cell_type": "code",
      "source": [
        "my_set = {'a', 'b', 'c'}\n",
        "print(my_set)"
      ],
      "metadata": {
        "colab": {
          "base_uri": "https://localhost:8080/"
        },
        "id": "4pZqY1QjUyCr",
        "outputId": "e8bc192b-e30e-4231-f530-da6e5a446419"
      },
      "execution_count": null,
      "outputs": [
        {
          "output_type": "stream",
          "name": "stdout",
          "text": [
            "{'b', 'c', 'a'}\n"
          ]
        }
      ]
    },
    {
      "cell_type": "markdown",
      "source": [
        "17.**Write a code to clear all elements from the set {1, 2, 3, 4, 5}.**"
      ],
      "metadata": {
        "id": "CcVJjmMfV39h"
      }
    },
    {
      "cell_type": "code",
      "source": [
        "y_set = {1, 2, 3, 4, 5}\n",
        "my_set.clear()\n",
        "print(my_set)"
      ],
      "metadata": {
        "colab": {
          "base_uri": "https://localhost:8080/"
        },
        "id": "X1yG8bkPV898",
        "outputId": "7de2a53e-7bef-4fe6-d6dc-d7f6d7b93490"
      },
      "execution_count": null,
      "outputs": [
        {
          "output_type": "stream",
          "name": "stdout",
          "text": [
            "set()\n"
          ]
        }
      ]
    },
    {
      "cell_type": "markdown",
      "source": [
        "18.**Write a code to remove the element 4 from the set {1, 2, 3, 4}.**"
      ],
      "metadata": {
        "id": "u5AtsuAcWFs9"
      }
    },
    {
      "cell_type": "code",
      "source": [
        "my_set = {1, 2, 3, 4}\n",
        "my_set.remove(4)\n",
        "print(my_set)"
      ],
      "metadata": {
        "colab": {
          "base_uri": "https://localhost:8080/"
        },
        "id": "V63OWNH_WTBq",
        "outputId": "7b215269-4c46-474d-e741-7fda1d5407e5"
      },
      "execution_count": null,
      "outputs": [
        {
          "output_type": "stream",
          "name": "stdout",
          "text": [
            "{1, 2, 3}\n"
          ]
        }
      ]
    },
    {
      "cell_type": "markdown",
      "source": [
        "19.**Write a code to find the union of two sets {1, 2, 3} and {3, 4, 5}.**"
      ],
      "metadata": {
        "id": "e4DWreJNWau3"
      }
    },
    {
      "cell_type": "code",
      "source": [
        "set1 = {1, 2, 3}\n",
        "set2 = {3, 4, 5}\n",
        "union_set = set1.union(set2)\n",
        "print(union_set)"
      ],
      "metadata": {
        "colab": {
          "base_uri": "https://localhost:8080/"
        },
        "id": "wPbvS5FqWeJi",
        "outputId": "9544410e-dd40-4cc0-8e12-a425f7692709"
      },
      "execution_count": null,
      "outputs": [
        {
          "output_type": "stream",
          "name": "stdout",
          "text": [
            "{1, 2, 3, 4, 5}\n"
          ]
        }
      ]
    },
    {
      "cell_type": "markdown",
      "source": [
        "20.**Write a code to find the intersection of two sets {1, 2, 3} and {2, 3, 4}.**"
      ],
      "metadata": {
        "id": "QbiOSUnpXDJY"
      }
    },
    {
      "cell_type": "code",
      "source": [
        "set1 = {1, 2, 3}\n",
        "set2 = {2, 3, 4}\n",
        "intersection_set = set1.intersection(set2)\n",
        "print(intersection_set)\n"
      ],
      "metadata": {
        "colab": {
          "base_uri": "https://localhost:8080/"
        },
        "id": "f_97YHEkXIQZ",
        "outputId": "c46719bc-f999-44f8-c908-f1436343720a"
      },
      "execution_count": null,
      "outputs": [
        {
          "output_type": "stream",
          "name": "stdout",
          "text": [
            "{2, 3}\n"
          ]
        }
      ]
    },
    {
      "cell_type": "markdown",
      "source": [
        "21.**Write a code to create a dictionary with the keys \"name\", \"age\", and \"city\", and print it.**"
      ],
      "metadata": {
        "id": "MrIKiEJwXejc"
      }
    },
    {
      "cell_type": "code",
      "source": [
        "person = {\"name\": \"Nilkanta\",\"age\": 25,\"city\": \"Kolkata\"}\n",
        "print(person)"
      ],
      "metadata": {
        "colab": {
          "base_uri": "https://localhost:8080/"
        },
        "id": "oqQcEWyhXiZb",
        "outputId": "3dcdda82-a51e-4dc4-fa71-b322db71ff57"
      },
      "execution_count": null,
      "outputs": [
        {
          "output_type": "stream",
          "name": "stdout",
          "text": [
            "{'name': 'Nilkanta', 'age': 25, 'city': 'Kolkata'}\n"
          ]
        }
      ]
    },
    {
      "cell_type": "markdown",
      "source": [
        "22.**Write a code to add a new key-value pair \"country\": \"USA\" to the dictionary {'name': 'John', 'age': 25}.**"
      ],
      "metadata": {
        "id": "vX0etbd3Yisd"
      }
    },
    {
      "cell_type": "code",
      "source": [
        "person = {'name': 'John', 'age': 25}\n",
        "person['country'] = 'USA'\n",
        "print(person)"
      ],
      "metadata": {
        "colab": {
          "base_uri": "https://localhost:8080/"
        },
        "id": "FkIEVIG2Ym7N",
        "outputId": "eb5f1a3c-0620-4613-c654-1849bf1f6b24"
      },
      "execution_count": null,
      "outputs": [
        {
          "output_type": "stream",
          "name": "stdout",
          "text": [
            "{'name': 'John', 'age': 25, 'country': 'USA'}\n"
          ]
        }
      ]
    },
    {
      "cell_type": "markdown",
      "source": [
        "23.**Write a code to access the value associated with the key \"name\" in the dictionary {'name': 'Alice', 'age': 30}.**"
      ],
      "metadata": {
        "id": "pOsDMUg_Y-Uf"
      }
    },
    {
      "cell_type": "code",
      "source": [
        "person = {'name': 'Alice', 'age': 30}\n",
        "name_value = person['name']\n",
        "print(name_value)"
      ],
      "metadata": {
        "colab": {
          "base_uri": "https://localhost:8080/"
        },
        "id": "q8j4ebIiZDUE",
        "outputId": "598ea916-84bd-4491-d70a-a1399bb97d06"
      },
      "execution_count": null,
      "outputs": [
        {
          "output_type": "stream",
          "name": "stdout",
          "text": [
            "Alice\n"
          ]
        }
      ]
    },
    {
      "cell_type": "markdown",
      "source": [
        "24.**Write a code to remove the key \"age\" from the dictionary {'name': 'Bob', 'age': 22, 'city': 'New York'}.**"
      ],
      "metadata": {
        "id": "w3Mq-QksZgl5"
      }
    },
    {
      "cell_type": "code",
      "source": [
        "person = {'name': 'Bob', 'age': 22, 'city': 'New York'}\n",
        "del person['age']\n",
        "print(person)"
      ],
      "metadata": {
        "colab": {
          "base_uri": "https://localhost:8080/"
        },
        "id": "c8AqGte7ZkRP",
        "outputId": "3c8a2863-686e-49d6-8a6d-c7eeae819ef0"
      },
      "execution_count": null,
      "outputs": [
        {
          "output_type": "stream",
          "name": "stdout",
          "text": [
            "{'name': 'Bob', 'city': 'New York'}\n"
          ]
        }
      ]
    },
    {
      "cell_type": "markdown",
      "source": [
        "25.**Write a code to check if the key \"city\" exists in the dictionary {'name': 'Alice', 'city': 'Paris'}.**"
      ],
      "metadata": {
        "id": "hWjPjJ7bZ159"
      }
    },
    {
      "cell_type": "code",
      "source": [
        "person = {'name': 'Alice', 'city': 'Paris'}\n",
        "\n",
        "if 'city' in person:\n",
        "    print(\"Yes, 'city' is a key in the dictionary.\")\n",
        "else:\n",
        "    print(\"No, 'city' is not a key in the dictionary.\")"
      ],
      "metadata": {
        "colab": {
          "base_uri": "https://localhost:8080/"
        },
        "id": "wzs_1JHYZ6Ki",
        "outputId": "3296749b-6be2-4a37-ac8b-b8e09c123929"
      },
      "execution_count": null,
      "outputs": [
        {
          "output_type": "stream",
          "name": "stdout",
          "text": [
            "Yes, 'city' is a key in the dictionary.\n"
          ]
        }
      ]
    },
    {
      "cell_type": "markdown",
      "source": [
        "26.**Write a code to create a list, a tuple, and a dictionary, and print them all.**"
      ],
      "metadata": {
        "id": "ecVScWvZ0bkH"
      }
    },
    {
      "cell_type": "code",
      "source": [
        "my_list = [1, 2, 3, 4, 5]\n",
        "my_tuple = ('apple', 'banana', 'cherry')\n",
        "my_dict = {'name': 'Alice','age': 30,'city': 'New York'}\n",
        "print(\"List:\", my_list)\n",
        "print(\"Tuple:\", my_tuple)\n",
        "print(\"Dictionary:\", my_dict)"
      ],
      "metadata": {
        "colab": {
          "base_uri": "https://localhost:8080/"
        },
        "id": "V4GZVlAE0kwh",
        "outputId": "056dcff9-f5ee-4a40-b973-3aa35cceff1a"
      },
      "execution_count": null,
      "outputs": [
        {
          "output_type": "stream",
          "name": "stdout",
          "text": [
            "List: [1, 2, 3, 4, 5]\n",
            "Tuple: ('apple', 'banana', 'cherry')\n",
            "Dictionary: {'name': 'Alice', 'age': 30, 'city': 'New York'}\n"
          ]
        }
      ]
    },
    {
      "cell_type": "markdown",
      "source": [
        "27.**Write a code to create a list of 5 random numbers between 1 and 100, sort it in ascending order, and print the result.(replace)**"
      ],
      "metadata": {
        "id": "9kVOjzRu1bDi"
      }
    },
    {
      "cell_type": "code",
      "source": [
        "import random\n",
        "random_numbers = [random.randint(1, 100) for _ in range(5)]\n",
        "random_numbers.sort()\n",
        "print(random_numbers)"
      ],
      "metadata": {
        "colab": {
          "base_uri": "https://localhost:8080/"
        },
        "id": "fh7QpUrO18jf",
        "outputId": "4cf778cf-3d41-4c05-9ba9-27b0c0e1e2d4"
      },
      "execution_count": 7,
      "outputs": [
        {
          "output_type": "stream",
          "name": "stdout",
          "text": [
            "[27, 72, 76, 86, 92]\n"
          ]
        }
      ]
    },
    {
      "cell_type": "markdown",
      "source": [
        "28.**Write a code to create a list with strings and print the element at the third index.**"
      ],
      "metadata": {
        "id": "YEJVv39k3N8M"
      }
    },
    {
      "cell_type": "code",
      "source": [
        "my_list = [\"apple\", \"banana\", \"cherry\", \"date\"]\n",
        "print(my_list[2])"
      ],
      "metadata": {
        "colab": {
          "base_uri": "https://localhost:8080/"
        },
        "id": "Mx6OfFa13Sn5",
        "outputId": "95859d00-ab27-4bb5-ba33-f05b877de2d0"
      },
      "execution_count": 11,
      "outputs": [
        {
          "output_type": "stream",
          "name": "stdout",
          "text": [
            "cherry\n"
          ]
        }
      ]
    },
    {
      "cell_type": "markdown",
      "source": [
        "29.**Write a code to combine two dictionaries into one and print the result.**"
      ],
      "metadata": {
        "id": "s2dqFHCK30yr"
      }
    },
    {
      "cell_type": "code",
      "source": [
        "dict1 = {'a': 1, 'b': 2}\n",
        "dict2 = {'c': 3, 'd': 4}\n",
        "combined_dict = {**dict1, **dict2}\n",
        "print(combined_dict)"
      ],
      "metadata": {
        "colab": {
          "base_uri": "https://localhost:8080/"
        },
        "id": "GMRyIto536EH",
        "outputId": "ca44e762-a2b6-4c4b-dcab-e89e4c2b526c"
      },
      "execution_count": 12,
      "outputs": [
        {
          "output_type": "stream",
          "name": "stdout",
          "text": [
            "{'a': 1, 'b': 2, 'c': 3, 'd': 4}\n"
          ]
        }
      ]
    },
    {
      "cell_type": "markdown",
      "source": [
        "30.**Write a code to convert a list of strings into a set.**"
      ],
      "metadata": {
        "id": "8iQso4_P4wMe"
      }
    },
    {
      "cell_type": "code",
      "source": [
        "string_list = [\"apple\", \"banana\", \"apple\", \"orange\", \"banana\"]\n",
        "string_set = set(string_list)\n",
        "print(string_set)"
      ],
      "metadata": {
        "colab": {
          "base_uri": "https://localhost:8080/"
        },
        "id": "Gl3ktQYr43Rw",
        "outputId": "73c79fa1-eaeb-47cb-def1-f5f730ffeb6d"
      },
      "execution_count": 13,
      "outputs": [
        {
          "output_type": "stream",
          "name": "stdout",
          "text": [
            "{'orange', 'banana', 'apple'}\n"
          ]
        }
      ]
    }
  ]
}